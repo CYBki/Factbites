{
 "cells": [
  {
   "cell_type": "markdown",
   "metadata": {},
   "source": [
    "# 05. Going Modular: Part 1 (cell mode)\n",
    "\n",
    "Why two parts?\n",
    "\n",
    "Because sometimes the best way to learn something is to see how it *differs* from something else.\n",
    "\n",
    "If you run each notebook side-by-side you'll see how they differ and that's where the key learnings are."
   ]
  },
  {
   "cell_type": "markdown",
   "metadata": {},
   "source": [
    "## What is cell mode?\n",
    "\n",
    "A cell mode notebook is a regular notebook run exactly how we've been running them through the course.\n",
    "\n",
    "Some cells contain text and others contain code."
   ]
  },
  {
   "cell_type": "markdown",
   "metadata": {},
   "source": [
    "## What's the difference between this notebook (Part 1) and the script mode notebook (Part 2)?\n",
    "\n",
    "This notebook, 05. PyTorch Going Modular: Part 1 (cell mode), runs a cleaned up version of the most useful code from section 04. PyTorch Custom Datasets\n",
    "\n",
    "Running this notebook end-to-end will result in recreating the image classification model we built in notebook 04 (TinyVGG) trained on images of pizza, steak and sushi.\n",
    "\n",
    "The main difference between this notebook (Part 1) and Part 2 is that each section in Part 2 (script mode) has an extra subsection (e.g. 2.1, 3.1, 4.1) for turning cell code into script code."
   ]
  },
  {
   "cell_type": "markdown",
   "metadata": {},
   "source": [
    "## 0. Running a notebook in cell mode\n",
    "\n",
    "As discussed, we're going to be running this notebook normally.\n",
    "\n",
    "One cell at a time.\n",
    "\n",
    "The code is from notebook 04, however, it has been condensed down to its core functionality."
   ]
  },
  {
   "cell_type": "markdown",
   "metadata": {},
   "source": [
    "## 1. Get data\n",
    "\n",
    "We're going to start by downloading the same data we used in notebook 04(Custom_dataset.ipynb), the `pizza_steak_sushi` dataset with images of pizza, steak and sushi."
   ]
  },
  {
   "cell_type": "code",
   "execution_count": null,
   "metadata": {},
   "outputs": [
    {
     "name": "stdout",
     "output_type": "stream",
     "text": [
      "Did not find data\\pizza_steak_sushi directory, creating one...\n",
      "Error: data\\pizza_steak_sushi.zip not found!\n"
     ]
    }
   ],
   "source": [
    "import os\n",
    "import zipfile\n",
    "from pathlib import Path\n",
    "\n",
    "# Setup path to data folder\n",
    "data_path = Path(\"Custom_Dataset/data\")\n",
    "image_path = data_path / \"pizza_steak_sushi\"\n",
    "\n",
    "# Eğer klasör zaten varsa işlemi atla, yoksa zip dosyasını çıkar\n",
    "if image_path.is_dir():\n",
    "    print(f\"{image_path} directory already exists.\")\n",
    "else:\n",
    "    print(f\"Did not find {image_path} directory, creating one...\")\n",
    "    image_path.mkdir(parents=True, exist_ok=True)\n",
    "\n",
    "    # Unzip pizza_steak_sushi.zip dosyasını aç\n",
    "    zip_file_path = data_path / \"pizza_steak_sushi.zip\"\n",
    "    \n",
    "    if zip_file_path.is_file():\n",
    "        print(\"Unzipping pizza_steak_sushi.zip...\")\n",
    "        with zipfile.ZipFile(zip_file_path, \"r\") as zip_ref:\n",
    "            zip_ref.extractall(image_path)\n",
    "        \n",
    "        # ZIP dosyasını kaldır\n",
    "        os.remove(zip_file_path)\n",
    "    else:\n",
    "        print(f\"Error: {zip_file_path} not found!\")\n"
   ]
  }
 ],
 "metadata": {
  "kernelspec": {
   "display_name": "base",
   "language": "python",
   "name": "python3"
  },
  "language_info": {
   "codemirror_mode": {
    "name": "ipython",
    "version": 3
   },
   "file_extension": ".py",
   "mimetype": "text/x-python",
   "name": "python",
   "nbconvert_exporter": "python",
   "pygments_lexer": "ipython3",
   "version": "3.12.7"
  }
 },
 "nbformat": 4,
 "nbformat_minor": 2
}
