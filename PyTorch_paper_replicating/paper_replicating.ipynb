{
 "cells": [
  {
   "cell_type": "markdown",
   "metadata": {},
   "source": [
    "## 0. Getting setup\n"
   ]
  },
  {
   "cell_type": "code",
   "execution_count": 1,
   "metadata": {},
   "outputs": [],
   "source": [
    "import os\n",
    "os.environ[\"KMP_DUPLICATE_LIB_OK\"] = \"TRUE\""
   ]
  },
  {
   "cell_type": "code",
   "execution_count": 2,
   "metadata": {},
   "outputs": [
    {
     "name": "stdout",
     "output_type": "stream",
     "text": [
      "torch version: 2.6.0+cu118\n",
      "torchvision version: 0.21.0+cu118\n"
     ]
    }
   ],
   "source": [
    "# For this notebook to run with updated APIs, we need torch 1.12+ and torchvision 0.13+\n",
    "try:\n",
    "    import torch\n",
    "    import torchvision\n",
    "    assert int(torch.__version__.split(\".\")[1]) >= 12 or int(torch.__version__.split(\".\")[0]) == 2, \"torch version should be 1.12+\"\n",
    "    assert int(torchvision.__version__.split(\".\")[1]) >= 13, \"torchvision version should be 0.13+\"\n",
    "    print(f\"torch version: {torch.__version__}\")\n",
    "    print(f\"torchvision version: {torchvision.__version__}\")\n",
    "except:\n",
    "    print(f\"[INFO] torch/torchvision versions not as required, installing nightly versions.\")\n",
    "    !pip3 install -U torch torchvision torchaudio --index-url https://download.pytorch.org/whl/cu118\n",
    "    import torch\n",
    "    import torchvision\n",
    "    print(f\"torch version: {torch.__version__}\")\n",
    "    print(f\"torchvision version: {torchvision.__version__}\")"
   ]
  },
  {
   "cell_type": "code",
   "execution_count": 3,
   "metadata": {},
   "outputs": [
    {
     "name": "stdout",
     "output_type": "stream",
     "text": [
      "[INFO] Couldn't find going_modular or helper_functions scripts... downloading them from GitHub.\n"
     ]
    },
    {
     "name": "stderr",
     "output_type": "stream",
     "text": [
      "Cloning into 'Factbites'...\n",
      "Updating files:  56% (1239/2192)\n",
      "Updating files:  57% (1250/2192)\n",
      "Updating files:  58% (1272/2192)\n",
      "Updating files:  59% (1294/2192)\n",
      "Updating files:  60% (1316/2192)\n",
      "Updating files:  61% (1338/2192)\n",
      "Updating files:  62% (1360/2192)\n",
      "Updating files:  63% (1381/2192)\n",
      "Updating files:  64% (1403/2192)\n",
      "Updating files:  65% (1425/2192)\n",
      "Updating files:  66% (1447/2192)\n",
      "Updating files:  67% (1469/2192)\n",
      "Updating files:  68% (1491/2192)\n",
      "Updating files:  69% (1513/2192)\n",
      "Updating files:  70% (1535/2192)\n",
      "Updating files:  71% (1557/2192)\n",
      "Updating files:  72% (1579/2192)\n",
      "Updating files:  73% (1601/2192)\n",
      "Updating files:  74% (1623/2192)\n",
      "Updating files:  75% (1644/2192)\n",
      "Updating files:  76% (1666/2192)\n",
      "Updating files:  77% (1688/2192)\n",
      "Updating files:  78% (1710/2192)\n",
      "Updating files:  79% (1732/2192)\n",
      "Updating files:  80% (1754/2192)\n",
      "Updating files:  81% (1776/2192)\n",
      "Updating files:  82% (1798/2192)\n",
      "Updating files:  83% (1820/2192)\n",
      "Updating files:  84% (1842/2192)\n",
      "Updating files:  85% (1864/2192)\n",
      "Updating files:  86% (1886/2192)\n",
      "Updating files:  87% (1908/2192)\n",
      "Updating files:  88% (1929/2192)\n",
      "Updating files:  89% (1951/2192)\n",
      "Updating files:  90% (1973/2192)\n",
      "Updating files:  91% (1995/2192)\n",
      "Updating files:  92% (2017/2192)\n",
      "Updating files:  93% (2039/2192)\n",
      "Updating files:  94% (2061/2192)\n",
      "Updating files:  95% (2083/2192)\n",
      "Updating files:  96% (2105/2192)\n",
      "Updating files:  97% (2127/2192)\n",
      "Updating files:  98% (2149/2192)\n",
      "Updating files:  99% (2171/2192)\n",
      "Updating files: 100% (2192/2192)\n",
      "Updating files: 100% (2192/2192), done.\n"
     ]
    },
    {
     "name": "stdout",
     "output_type": "stream",
     "text": [
      "        1 dir(s) moved.\n"
     ]
    },
    {
     "name": "stderr",
     "output_type": "stream",
     "text": [
      "The syntax of the command is incorrect.\n"
     ]
    },
    {
     "ename": "ModuleNotFoundError",
     "evalue": "No module named 'helper_functions'",
     "output_type": "error",
     "traceback": [
      "\u001b[1;31m---------------------------------------------------------------------------\u001b[0m",
      "\u001b[1;31mModuleNotFoundError\u001b[0m                       Traceback (most recent call last)",
      "Cell \u001b[1;32mIn[3], line 19\u001b[0m\n\u001b[0;32m     18\u001b[0m \u001b[38;5;28;01mtry\u001b[39;00m:\n\u001b[1;32m---> 19\u001b[0m     \u001b[38;5;28;01mfrom\u001b[39;00m\u001b[38;5;250m \u001b[39m\u001b[38;5;21;01mPyTorch_Going_Modular\u001b[39;00m\u001b[38;5;21;01m.\u001b[39;00m\u001b[38;5;21;01mgoing_modular\u001b[39;00m\u001b[38;5;250m \u001b[39m\u001b[38;5;28;01mimport\u001b[39;00m data_setup, engine\n\u001b[0;32m     20\u001b[0m     \u001b[38;5;28;01mfrom\u001b[39;00m\u001b[38;5;250m \u001b[39m\u001b[38;5;21;01mhelper_functions\u001b[39;00m\u001b[38;5;250m \u001b[39m\u001b[38;5;28;01mimport\u001b[39;00m download_data, set_seeds, plot_loss_curves\n",
      "\u001b[1;31mModuleNotFoundError\u001b[0m: No module named 'PyTorch_Going_Modular'",
      "\nDuring handling of the above exception, another exception occurred:\n",
      "\u001b[1;31mModuleNotFoundError\u001b[0m                       Traceback (most recent call last)",
      "Cell \u001b[1;32mIn[3], line 29\u001b[0m\n\u001b[0;32m     27\u001b[0m get_ipython()\u001b[38;5;241m.\u001b[39msystem(\u001b[38;5;124m'\u001b[39m\u001b[38;5;124mrmdir /s /q Factbites\u001b[39m\u001b[38;5;124m'\u001b[39m)\n\u001b[0;32m     28\u001b[0m \u001b[38;5;28;01mfrom\u001b[39;00m\u001b[38;5;250m \u001b[39m\u001b[38;5;21;01mPyTorch_Going_Modular\u001b[39;00m\u001b[38;5;21;01m.\u001b[39;00m\u001b[38;5;21;01mgoing_modular\u001b[39;00m\u001b[38;5;250m \u001b[39m\u001b[38;5;28;01mimport\u001b[39;00m data_setup, engine\n\u001b[1;32m---> 29\u001b[0m \u001b[38;5;28;01mfrom\u001b[39;00m\u001b[38;5;250m \u001b[39m\u001b[38;5;21;01mhelper_functions\u001b[39;00m\u001b[38;5;250m \u001b[39m\u001b[38;5;28;01mimport\u001b[39;00m download_data, set_seeds, plot_loss_curves\n",
      "\u001b[1;31mModuleNotFoundError\u001b[0m: No module named 'helper_functions'"
     ]
    }
   ],
   "source": [
    "# Continue with regular imports\n",
    "import matplotlib.pyplot as plt\n",
    "import torch\n",
    "import torchvision\n",
    "\n",
    "from torch import nn\n",
    "from torchvision import transforms\n",
    "\n",
    "# Try to get torchinfo, install it if it doesn't work\n",
    "try:\n",
    "    from torchinfo import summary\n",
    "except:\n",
    "    print(\"[INFO] Couldn't find torchinfo... installing it.\")\n",
    "    !pip install -q torchinfo\n",
    "    from torchinfo import summary\n",
    "\n",
    "# Try to import the going_modular directory, download it from GitHub if it doesn't work\n",
    "try:\n",
    "    from PyTorch_Going_Modular.going_modular import data_setup, engine\n",
    "    from helper_functions import download_data, set_seeds, plot_loss_curves\n",
    "except:\n",
    "    # Get the going_modular scripts\n",
    "    print(\"[INFO] Couldn't find going_modular or helper_functions scripts... downloading them from GitHub.\")\n",
    "    !git clone https://github.com/CYBki/Factbites\n",
    "    !move Factbites/PyTorch_Going_Modular .\n",
    "    !move Factbites/helper_functions.py . # get the helper_functions.py script\n",
    "    !rmdir /s /q Factbites\n",
    "    from PyTorch_Going_Modular.going_modular import data_setup, engine\n",
    "    from helper_functions import download_data, set_seeds, plot_loss_curves"
   ]
  },
  {
   "cell_type": "code",
   "execution_count": null,
   "metadata": {},
   "outputs": [],
   "source": [
    "device = \"cuda\" if torch.cuda.is_available() else \"cpu\"\n",
    "device"
   ]
  },
  {
   "cell_type": "markdown",
   "metadata": {},
   "source": [
    "## 1. Get Data\n"
   ]
  }
 ],
 "metadata": {
  "kernelspec": {
   "display_name": "base",
   "language": "python",
   "name": "python3"
  },
  "language_info": {
   "codemirror_mode": {
    "name": "ipython",
    "version": 3
   },
   "file_extension": ".py",
   "mimetype": "text/x-python",
   "name": "python",
   "nbconvert_exporter": "python",
   "pygments_lexer": "ipython3",
   "version": "3.12.7"
  }
 },
 "nbformat": 4,
 "nbformat_minor": 2
}
